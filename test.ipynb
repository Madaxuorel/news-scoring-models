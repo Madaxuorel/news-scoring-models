{
 "cells": [
  {
   "cell_type": "code",
   "execution_count": 1,
   "metadata": {},
   "outputs": [
    {
     "name": "stderr",
     "output_type": "stream",
     "text": [
      "2024-05-31 09:34:18.092788: I tensorflow/tsl/cuda/cudart_stub.cc:28] Could not find cuda drivers on your machine, GPU will not be used.\n",
      "2024-05-31 09:34:18.593617: I tensorflow/tsl/cuda/cudart_stub.cc:28] Could not find cuda drivers on your machine, GPU will not be used.\n",
      "2024-05-31 09:34:18.597332: I tensorflow/core/platform/cpu_feature_guard.cc:182] This TensorFlow binary is optimized to use available CPU instructions in performance-critical operations.\n",
      "To enable the following instructions: AVX2 FMA, in other operations, rebuild TensorFlow with the appropriate compiler flags.\n",
      "2024-05-31 09:34:19.881467: W tensorflow/compiler/tf2tensorrt/utils/py_utils.cc:38] TF-TRT Warning: Could not find TensorRT\n"
     ]
    }
   ],
   "source": [
    "from news.getNewsFromCompany import getNewsFromTicker\n",
    "\n",
    "from scoring.newsSentimentScoring import newsLineToScore,dateScore\n",
    "\n",
    "import pandas as pd"
   ]
  },
  {
   "cell_type": "code",
   "execution_count": null,
   "metadata": {},
   "outputs": [],
   "source": [
    "import datetime"
   ]
  },
  {
   "cell_type": "code",
   "execution_count": null,
   "metadata": {},
   "outputs": [],
   "source": [
    "news_dict = getNewsFromTicker([\"GOOG\"],datetime.datetime(2024,1,1),datetime.datetime.today(),'c4e1jb2ad3ieqvqh3qbg')"
   ]
  },
  {
   "cell_type": "code",
   "execution_count": null,
   "metadata": {},
   "outputs": [],
   "source": [
    "news_dict"
   ]
  },
  {
   "cell_type": "code",
   "execution_count": 6,
   "metadata": {},
   "outputs": [
    {
     "name": "stderr",
     "output_type": "stream",
     "text": [
      "100%|██████████| 7/7 [00:00<00:00, 1531.17it/s]\n"
     ]
    },
    {
     "name": "stdout",
     "output_type": "stream",
     "text": [
      "['alphabet inc goog stock moves 035 know', 'alphabet googl stock moves 028 know', '4 solid stocks gain nasdaqs new milestone', '5 stocks high roe profit markets sway whimsically', 'hedge funds picked alphabet inc nasdaqgoogl top quantum computing stock', 'alphabet goog best ai stock 2024 according billionaire david tepper', 'alphabet inc goog best ai stock pick billionaire steve cohen']\n",
      "[[5148, 45, 13357, 2, 1077, 689], [5148, 2, 1077, 9342, 689], [124, 953, 17, 239, 9, 3789], [91, 17, 100, 2213, 6, 41], [61, 54, 3748, 5148, 45, 152, 9470, 4382, 2], [5148, 13357, 288, 4786, 2, 24430, 136, 1694, 1949, 28209], [5148, 45, 13357, 288, 4786, 2, 1803, 1694, 3965, 6357]]\n"
     ]
    },
    {
     "name": "stderr",
     "output_type": "stream",
     "text": [
      "2024-05-30 11:32:05.166582: I tensorflow/core/common_runtime/executor.cc:1197] [/device:CPU:0] (DEBUG INFO) Executor start aborting (this does not indicate an error and you can ignore this message): INVALID_ARGUMENT: You must feed a value for placeholder tensor 'gradients/split_2_grad/concat/split_2/split_dim' with dtype int32\n",
      "\t [[{{node gradients/split_2_grad/concat/split_2/split_dim}}]]\n",
      "2024-05-30 11:32:05.167898: I tensorflow/core/common_runtime/executor.cc:1197] [/device:CPU:0] (DEBUG INFO) Executor start aborting (this does not indicate an error and you can ignore this message): INVALID_ARGUMENT: You must feed a value for placeholder tensor 'gradients/split_grad/concat/split/split_dim' with dtype int32\n",
      "\t [[{{node gradients/split_grad/concat/split/split_dim}}]]\n",
      "2024-05-30 11:32:05.169215: I tensorflow/core/common_runtime/executor.cc:1197] [/device:CPU:0] (DEBUG INFO) Executor start aborting (this does not indicate an error and you can ignore this message): INVALID_ARGUMENT: You must feed a value for placeholder tensor 'gradients/split_1_grad/concat/split_1/split_dim' with dtype int32\n",
      "\t [[{{node gradients/split_1_grad/concat/split_1/split_dim}}]]\n",
      "2024-05-30 11:32:05.327397: I tensorflow/core/common_runtime/executor.cc:1197] [/device:CPU:0] (DEBUG INFO) Executor start aborting (this does not indicate an error and you can ignore this message): INVALID_ARGUMENT: You must feed a value for placeholder tensor 'gradients/split_2_grad/concat/split_2/split_dim' with dtype int32\n",
      "\t [[{{node gradients/split_2_grad/concat/split_2/split_dim}}]]\n",
      "2024-05-30 11:32:05.328418: I tensorflow/core/common_runtime/executor.cc:1197] [/device:CPU:0] (DEBUG INFO) Executor start aborting (this does not indicate an error and you can ignore this message): INVALID_ARGUMENT: You must feed a value for placeholder tensor 'gradients/split_grad/concat/split/split_dim' with dtype int32\n",
      "\t [[{{node gradients/split_grad/concat/split/split_dim}}]]\n",
      "2024-05-30 11:32:05.329429: I tensorflow/core/common_runtime/executor.cc:1197] [/device:CPU:0] (DEBUG INFO) Executor start aborting (this does not indicate an error and you can ignore this message): INVALID_ARGUMENT: You must feed a value for placeholder tensor 'gradients/split_1_grad/concat/split_1/split_dim' with dtype int32\n",
      "\t [[{{node gradients/split_1_grad/concat/split_1/split_dim}}]]\n",
      "2024-05-30 11:32:05.672720: I tensorflow/core/common_runtime/executor.cc:1197] [/device:CPU:0] (DEBUG INFO) Executor start aborting (this does not indicate an error and you can ignore this message): INVALID_ARGUMENT: You must feed a value for placeholder tensor 'gradients/split_2_grad/concat/split_2/split_dim' with dtype int32\n",
      "\t [[{{node gradients/split_2_grad/concat/split_2/split_dim}}]]\n",
      "2024-05-30 11:32:05.674003: I tensorflow/core/common_runtime/executor.cc:1197] [/device:CPU:0] (DEBUG INFO) Executor start aborting (this does not indicate an error and you can ignore this message): INVALID_ARGUMENT: You must feed a value for placeholder tensor 'gradients/split_grad/concat/split/split_dim' with dtype int32\n",
      "\t [[{{node gradients/split_grad/concat/split/split_dim}}]]\n",
      "2024-05-30 11:32:05.675113: I tensorflow/core/common_runtime/executor.cc:1197] [/device:CPU:0] (DEBUG INFO) Executor start aborting (this does not indicate an error and you can ignore this message): INVALID_ARGUMENT: You must feed a value for placeholder tensor 'gradients/split_1_grad/concat/split_1/split_dim' with dtype int32\n",
      "\t [[{{node gradients/split_1_grad/concat/split_1/split_dim}}]]\n",
      "2024-05-30 11:32:05.840165: I tensorflow/core/common_runtime/executor.cc:1197] [/device:CPU:0] (DEBUG INFO) Executor start aborting (this does not indicate an error and you can ignore this message): INVALID_ARGUMENT: You must feed a value for placeholder tensor 'gradients/split_2_grad/concat/split_2/split_dim' with dtype int32\n",
      "\t [[{{node gradients/split_2_grad/concat/split_2/split_dim}}]]\n",
      "2024-05-30 11:32:05.841448: I tensorflow/core/common_runtime/executor.cc:1197] [/device:CPU:0] (DEBUG INFO) Executor start aborting (this does not indicate an error and you can ignore this message): INVALID_ARGUMENT: You must feed a value for placeholder tensor 'gradients/split_grad/concat/split/split_dim' with dtype int32\n",
      "\t [[{{node gradients/split_grad/concat/split/split_dim}}]]\n",
      "2024-05-30 11:32:05.842732: I tensorflow/core/common_runtime/executor.cc:1197] [/device:CPU:0] (DEBUG INFO) Executor start aborting (this does not indicate an error and you can ignore this message): INVALID_ARGUMENT: You must feed a value for placeholder tensor 'gradients/split_1_grad/concat/split_1/split_dim' with dtype int32\n",
      "\t [[{{node gradients/split_1_grad/concat/split_1/split_dim}}]]\n"
     ]
    },
    {
     "name": "stdout",
     "output_type": "stream",
     "text": [
      "1/1 [==============================] - 1s 644ms/step\n"
     ]
    },
    {
     "data": {
      "text/html": [
       "<div>\n",
       "<style scoped>\n",
       "    .dataframe tbody tr th:only-of-type {\n",
       "        vertical-align: middle;\n",
       "    }\n",
       "\n",
       "    .dataframe tbody tr th {\n",
       "        vertical-align: top;\n",
       "    }\n",
       "\n",
       "    .dataframe thead th {\n",
       "        text-align: right;\n",
       "    }\n",
       "</style>\n",
       "<table border=\"1\" class=\"dataframe\">\n",
       "  <thead>\n",
       "    <tr style=\"text-align: right;\">\n",
       "      <th></th>\n",
       "      <th>Headline</th>\n",
       "      <th>Date</th>\n",
       "      <th>Headline Score</th>\n",
       "      <th>Date Score</th>\n",
       "      <th>Final Score</th>\n",
       "    </tr>\n",
       "  </thead>\n",
       "  <tbody>\n",
       "    <tr>\n",
       "      <th>0</th>\n",
       "      <td>Alphabet Inc. (GOOG) Stock Moves -0.35%: What ...</td>\n",
       "      <td>2024-05-29 21:45:16</td>\n",
       "      <td>0.005045</td>\n",
       "      <td>1.000000</td>\n",
       "      <td>0.005045</td>\n",
       "    </tr>\n",
       "    <tr>\n",
       "      <th>1</th>\n",
       "      <td>Alphabet (GOOGL) Stock Moves -0.28%: What You ...</td>\n",
       "      <td>2024-05-29 21:45:16</td>\n",
       "      <td>-0.236743</td>\n",
       "      <td>1.000000</td>\n",
       "      <td>-0.236743</td>\n",
       "    </tr>\n",
       "    <tr>\n",
       "      <th>2</th>\n",
       "      <td>4 Solid Stocks to Gain From Nasdaq's New Miles...</td>\n",
       "      <td>2024-05-28 12:27:00</td>\n",
       "      <td>0.964044</td>\n",
       "      <td>0.994460</td>\n",
       "      <td>0.958703</td>\n",
       "    </tr>\n",
       "    <tr>\n",
       "      <th>3</th>\n",
       "      <td>5 Stocks With High ROE to Profit as Markets Sw...</td>\n",
       "      <td>2024-05-28 11:26:00</td>\n",
       "      <td>0.019757</td>\n",
       "      <td>0.994460</td>\n",
       "      <td>0.019648</td>\n",
       "    </tr>\n",
       "    <tr>\n",
       "      <th>4</th>\n",
       "      <td>Hedge Funds Just Picked Alphabet Inc. (NASDAQ:...</td>\n",
       "      <td>2024-05-27 21:12:44</td>\n",
       "      <td>0.007786</td>\n",
       "      <td>0.988950</td>\n",
       "      <td>0.007700</td>\n",
       "    </tr>\n",
       "    <tr>\n",
       "      <th>5</th>\n",
       "      <td>Is Alphabet (GOOG) The Best AI Stock for 2024 ...</td>\n",
       "      <td>2024-05-26 20:08:51</td>\n",
       "      <td>0.006196</td>\n",
       "      <td>0.983471</td>\n",
       "      <td>0.006093</td>\n",
       "    </tr>\n",
       "    <tr>\n",
       "      <th>6</th>\n",
       "      <td>Is Alphabet Inc. (GOOG) The Best AI Stock Pick...</td>\n",
       "      <td>2024-05-23 13:43:47</td>\n",
       "      <td>0.007205</td>\n",
       "      <td>0.967216</td>\n",
       "      <td>0.006969</td>\n",
       "    </tr>\n",
       "  </tbody>\n",
       "</table>\n",
       "</div>"
      ],
      "text/plain": [
       "                                            Headline                Date  \\\n",
       "0  Alphabet Inc. (GOOG) Stock Moves -0.35%: What ... 2024-05-29 21:45:16   \n",
       "1  Alphabet (GOOGL) Stock Moves -0.28%: What You ... 2024-05-29 21:45:16   \n",
       "2  4 Solid Stocks to Gain From Nasdaq's New Miles... 2024-05-28 12:27:00   \n",
       "3  5 Stocks With High ROE to Profit as Markets Sw... 2024-05-28 11:26:00   \n",
       "4  Hedge Funds Just Picked Alphabet Inc. (NASDAQ:... 2024-05-27 21:12:44   \n",
       "5  Is Alphabet (GOOG) The Best AI Stock for 2024 ... 2024-05-26 20:08:51   \n",
       "6  Is Alphabet Inc. (GOOG) The Best AI Stock Pick... 2024-05-23 13:43:47   \n",
       "\n",
       "   Headline Score  Date Score  Final Score  \n",
       "0        0.005045    1.000000     0.005045  \n",
       "1       -0.236743    1.000000    -0.236743  \n",
       "2        0.964044    0.994460     0.958703  \n",
       "3        0.019757    0.994460     0.019648  \n",
       "4        0.007786    0.988950     0.007700  \n",
       "5        0.006196    0.983471     0.006093  \n",
       "6        0.007205    0.967216     0.006969  "
      ]
     },
     "execution_count": 6,
     "metadata": {},
     "output_type": "execute_result"
    }
   ],
   "source": [
    "headlines = list(news_dict[0].keys())\n",
    "dates = list(news_dict[0].values())\n",
    "    \n",
    "    # Get the headline scores\n",
    "headline_scores = newsLineToScore(headlines,model='LSTM-word2vec')\n",
    "    \n",
    "    # Get the date scores\n",
    "date_scores = [dateScore(date) for date in dates]\n",
    "    \n",
    "    # Calculate final scores\n",
    "final_scores = [h_score * d_score for h_score, d_score in zip(headline_scores, date_scores)]\n",
    "    \n",
    "    # Create a DataFrame\n",
    "data = {\n",
    "        'Headline': headlines,\n",
    "        'Date': dates,\n",
    "        'Headline Score': headline_scores,\n",
    "        'Date Score': date_scores,\n",
    "        'Final Score': final_scores\n",
    "    }\n",
    "    \n",
    "pd.DataFrame(data)"
   ]
  },
  {
   "cell_type": "code",
   "execution_count": 7,
   "metadata": {},
   "outputs": [
    {
     "name": "stdout",
     "output_type": "stream",
     "text": [
      "0.10963084976560293\n"
     ]
    }
   ],
   "source": [
    "print(sum(final_scores)/7)"
   ]
  }
 ],
 "metadata": {
  "kernelspec": {
   "display_name": "Python 3",
   "language": "python",
   "name": "python3"
  },
  "language_info": {
   "codemirror_mode": {
    "name": "ipython",
    "version": 3
   },
   "file_extension": ".py",
   "mimetype": "text/x-python",
   "name": "python",
   "nbconvert_exporter": "python",
   "pygments_lexer": "ipython3",
   "version": "3.10.12"
  }
 },
 "nbformat": 4,
 "nbformat_minor": 2
}
