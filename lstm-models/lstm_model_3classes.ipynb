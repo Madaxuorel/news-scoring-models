{
 "cells": [
  {
   "cell_type": "code",
   "execution_count": 1,
   "metadata": {},
   "outputs": [
    {
     "name": "stderr",
     "output_type": "stream",
     "text": [
      "2024-05-28 16:58:50.889318: I tensorflow/tsl/cuda/cudart_stub.cc:28] Could not find cuda drivers on your machine, GPU will not be used.\n",
      "2024-05-28 16:58:50.931908: I tensorflow/tsl/cuda/cudart_stub.cc:28] Could not find cuda drivers on your machine, GPU will not be used.\n",
      "2024-05-28 16:58:50.933042: I tensorflow/core/platform/cpu_feature_guard.cc:182] This TensorFlow binary is optimized to use available CPU instructions in performance-critical operations.\n",
      "To enable the following instructions: AVX2 FMA, in other operations, rebuild TensorFlow with the appropriate compiler flags.\n",
      "2024-05-28 16:58:51.633038: W tensorflow/compiler/tf2tensorrt/utils/py_utils.cc:38] TF-TRT Warning: Could not find TensorRT\n"
     ]
    }
   ],
   "source": [
    "from tensorflow.keras.preprocessing.text import Tokenizer\n",
    "import pandas as pd\n",
    "from sklearn.model_selection import train_test_split\n",
    "from tensorflow.keras.preprocessing.sequence import pad_sequences\n",
    "import numpy as np\n",
    "from tensorflow.keras.models import Sequential\n",
    "from tensorflow.keras.layers import Embedding, LSTM, Dense, Dropout, BatchNormalization\n",
    "from tensorflow.keras.callbacks import EarlyStopping, ModelCheckpoint, LearningRateScheduler\n",
    "import tensorflow as tf\n",
    "import pickle"
   ]
  },
  {
   "cell_type": "code",
   "execution_count": 3,
   "metadata": {},
   "outputs": [],
   "source": [
    "data = pd.read_csv(\"../preprocessing/all-data-processed-3classes.csv\")"
   ]
  },
  {
   "cell_type": "code",
   "execution_count": 4,
   "metadata": {},
   "outputs": [
    {
     "data": {
      "text/html": [
       "<div>\n",
       "<style scoped>\n",
       "    .dataframe tbody tr th:only-of-type {\n",
       "        vertical-align: middle;\n",
       "    }\n",
       "\n",
       "    .dataframe tbody tr th {\n",
       "        vertical-align: top;\n",
       "    }\n",
       "\n",
       "    .dataframe thead th {\n",
       "        text-align: right;\n",
       "    }\n",
       "</style>\n",
       "<table border=\"1\" class=\"dataframe\">\n",
       "  <thead>\n",
       "    <tr style=\"text-align: right;\">\n",
       "      <th></th>\n",
       "      <th>Sentiment</th>\n",
       "      <th>Sentence</th>\n",
       "      <th>Clean sentences</th>\n",
       "    </tr>\n",
       "  </thead>\n",
       "  <tbody>\n",
       "    <tr>\n",
       "      <th>0</th>\n",
       "      <td>0</td>\n",
       "      <td>The utility will also provide services related...</td>\n",
       "      <td>utility also provide services related electric...</td>\n",
       "    </tr>\n",
       "    <tr>\n",
       "      <th>1</th>\n",
       "      <td>0</td>\n",
       "      <td>Niam offer financial investors a high return v...</td>\n",
       "      <td>niam offer financial investors high return via...</td>\n",
       "    </tr>\n",
       "    <tr>\n",
       "      <th>2</th>\n",
       "      <td>-1</td>\n",
       "      <td>Pinduoduo's stock plunges 23% premarket on hea...</td>\n",
       "      <td>pinduoduos stock plunges 23 premarket heavy vo...</td>\n",
       "    </tr>\n",
       "    <tr>\n",
       "      <th>3</th>\n",
       "      <td>0</td>\n",
       "      <td>Azeri Snap Elections Condemned by Monitors for...</td>\n",
       "      <td>azeri snap elections condemned monitors vote v...</td>\n",
       "    </tr>\n",
       "    <tr>\n",
       "      <th>4</th>\n",
       "      <td>-1</td>\n",
       "      <td>The #market is seeing strong #tax-loss selling...</td>\n",
       "      <td>market seeing strong taxloss selling investors...</td>\n",
       "    </tr>\n",
       "    <tr>\n",
       "      <th>...</th>\n",
       "      <td>...</td>\n",
       "      <td>...</td>\n",
       "      <td>...</td>\n",
       "    </tr>\n",
       "    <tr>\n",
       "      <th>31864</th>\n",
       "      <td>0</td>\n",
       "      <td>The U.S. Is Firing Blanks Against a New Irania...</td>\n",
       "      <td>yous firing blanks new iranian threat</td>\n",
       "    </tr>\n",
       "    <tr>\n",
       "      <th>31865</th>\n",
       "      <td>0</td>\n",
       "      <td>Storengy is the GDF SUEZ company that is dedic...</td>\n",
       "      <td>storengy gdf suez company dedicated undergroun...</td>\n",
       "    </tr>\n",
       "    <tr>\n",
       "      <th>31866</th>\n",
       "      <td>1</td>\n",
       "      <td>FDA approves Aquestive's ALS treatment https:...</td>\n",
       "      <td>fda approves aquestives als treatment httpstco...</td>\n",
       "    </tr>\n",
       "    <tr>\n",
       "      <th>31867</th>\n",
       "      <td>0</td>\n",
       "      <td>SoftBank to Create Japan Internet Giant to Bat...</td>\n",
       "      <td>softbank create japan internet giant battle gl...</td>\n",
       "    </tr>\n",
       "    <tr>\n",
       "      <th>31868</th>\n",
       "      <td>0</td>\n",
       "      <td>Marriott’s Mission: Make W Hotels Cool Again</td>\n",
       "      <td>marriotts mission make w hotels cool</td>\n",
       "    </tr>\n",
       "  </tbody>\n",
       "</table>\n",
       "<p>31869 rows × 3 columns</p>\n",
       "</div>"
      ],
      "text/plain": [
       "       Sentiment                                           Sentence  \\\n",
       "0              0  The utility will also provide services related...   \n",
       "1              0  Niam offer financial investors a high return v...   \n",
       "2             -1  Pinduoduo's stock plunges 23% premarket on hea...   \n",
       "3              0  Azeri Snap Elections Condemned by Monitors for...   \n",
       "4             -1  The #market is seeing strong #tax-loss selling...   \n",
       "...          ...                                                ...   \n",
       "31864          0  The U.S. Is Firing Blanks Against a New Irania...   \n",
       "31865          0  Storengy is the GDF SUEZ company that is dedic...   \n",
       "31866          1   FDA approves Aquestive's ALS treatment https:...   \n",
       "31867          0  SoftBank to Create Japan Internet Giant to Bat...   \n",
       "31868          0       Marriott’s Mission: Make W Hotels Cool Again   \n",
       "\n",
       "                                         Clean sentences  \n",
       "0      utility also provide services related electric...  \n",
       "1      niam offer financial investors high return via...  \n",
       "2      pinduoduos stock plunges 23 premarket heavy vo...  \n",
       "3      azeri snap elections condemned monitors vote v...  \n",
       "4      market seeing strong taxloss selling investors...  \n",
       "...                                                  ...  \n",
       "31864              yous firing blanks new iranian threat  \n",
       "31865  storengy gdf suez company dedicated undergroun...  \n",
       "31866  fda approves aquestives als treatment httpstco...  \n",
       "31867  softbank create japan internet giant battle gl...  \n",
       "31868               marriotts mission make w hotels cool  \n",
       "\n",
       "[31869 rows x 3 columns]"
      ]
     },
     "execution_count": 4,
     "metadata": {},
     "output_type": "execute_result"
    }
   ],
   "source": [
    "data"
   ]
  },
  {
   "cell_type": "code",
   "execution_count": 5,
   "metadata": {},
   "outputs": [],
   "source": [
    "data[\"Clean sentences\"] = data[\"Clean sentences\"].astype(str)"
   ]
  },
  {
   "cell_type": "code",
   "execution_count": 6,
   "metadata": {},
   "outputs": [
    {
     "data": {
      "text/plain": [
       "((28682,), (3187,), (28682,), (3187,))"
      ]
     },
     "execution_count": 6,
     "metadata": {},
     "output_type": "execute_result"
    }
   ],
   "source": [
    "X_train, X_test, y_train, y_test = train_test_split(data[\"Clean sentences\"], data[\"Sentiment\"], test_size=0.1, random_state=42)\n",
    "X_train.shape, X_test.shape, y_train.shape, y_test.shape"
   ]
  },
  {
   "cell_type": "code",
   "execution_count": 7,
   "metadata": {},
   "outputs": [],
   "source": [
    "token = Tokenizer()\n",
    "token.fit_on_texts(X_train)"
   ]
  },
  {
   "cell_type": "code",
   "execution_count": 8,
   "metadata": {},
   "outputs": [
    {
     "name": "stdout",
     "output_type": "stream",
     "text": [
      "Vocabulary size=29081\n",
      "Number of Documents=28682\n"
     ]
    }
   ],
   "source": [
    "vocab = len(token.index_word) + 1\n",
    "print(\"Vocabulary size={}\".format(len(token.word_index)))\n",
    "print(\"Number of Documents={}\".format(token.document_count))"
   ]
  },
  {
   "cell_type": "code",
   "execution_count": 9,
   "metadata": {},
   "outputs": [],
   "source": [
    "X_train = token.texts_to_sequences(X_train)\n",
    "X_test = token.texts_to_sequences(X_test)"
   ]
  },
  {
   "cell_type": "code",
   "execution_count": 10,
   "metadata": {},
   "outputs": [
    {
     "data": {
      "text/plain": [
       "47"
      ]
     },
     "execution_count": 10,
     "metadata": {},
     "output_type": "execute_result"
    }
   ],
   "source": [
    "sequence_lengths = [len(seq) for seq in X_train]\n",
    "max_length = max(sequence_lengths)\n",
    "max_length"
   ]
  },
  {
   "cell_type": "code",
   "execution_count": 11,
   "metadata": {},
   "outputs": [
    {
     "data": {
      "text/plain": [
       "((28682, 47), (3187, 47))"
      ]
     },
     "execution_count": 11,
     "metadata": {},
     "output_type": "execute_result"
    }
   ],
   "source": [
    "MAX_SEQUENCE_LENGTH = 47\n",
    "X_train = pad_sequences(X_train, maxlen=MAX_SEQUENCE_LENGTH, padding=\"post\")\n",
    "X_test = pad_sequences(X_test, maxlen=MAX_SEQUENCE_LENGTH, padding=\"post\")\n",
    "X_train.shape, X_test.shape\n"
   ]
  },
  {
   "cell_type": "code",
   "execution_count": 14,
   "metadata": {},
   "outputs": [],
   "source": [
    "from tensorflow.keras.utils import to_categorical\n",
    "y_train_labels = np.array(y_train) \n",
    "y_test_labels = np.array(y_test) "
   ]
  },
  {
   "cell_type": "code",
   "execution_count": 15,
   "metadata": {},
   "outputs": [],
   "source": [
    "y_train = np.where(y_train_labels == -1, 0, y_train_labels)\n",
    "y_train = np.where(y_train_labels == 0, 1, y_train)\n",
    "y_train = np.where(y_train_labels == 1, 2, y_train)\n",
    "\n",
    "y_test = np.where(y_test_labels == -1, 0, y_test_labels)\n",
    "y_test = np.where(y_test_labels == 0, 1, y_test)\n",
    "y_test = np.where(y_test_labels == 1, 2, y_test)\n",
    "\n",
    "y_train = to_categorical(y_train, num_classes=3)\n",
    "y_test = to_categorical(y_test, num_classes=3)"
   ]
  },
  {
   "cell_type": "code",
   "execution_count": 16,
   "metadata": {},
   "outputs": [],
   "source": [
    "def scheduler(epoch, lr):\n",
    "    if epoch < 5:\n",
    "        return lr\n",
    "    else:\n",
    "        return lr * 0.9\n",
    "\n",
    "lr_scheduler = LearningRateScheduler(scheduler)"
   ]
  },
  {
   "cell_type": "code",
   "execution_count": 17,
   "metadata": {},
   "outputs": [
    {
     "name": "stderr",
     "output_type": "stream",
     "text": [
      "2024-05-28 17:01:03.226512: I tensorflow/core/common_runtime/executor.cc:1197] [/device:CPU:0] (DEBUG INFO) Executor start aborting (this does not indicate an error and you can ignore this message): INVALID_ARGUMENT: You must feed a value for placeholder tensor 'gradients/split_2_grad/concat/split_2/split_dim' with dtype int32\n",
      "\t [[{{node gradients/split_2_grad/concat/split_2/split_dim}}]]\n",
      "2024-05-28 17:01:03.227906: I tensorflow/core/common_runtime/executor.cc:1197] [/device:CPU:0] (DEBUG INFO) Executor start aborting (this does not indicate an error and you can ignore this message): INVALID_ARGUMENT: You must feed a value for placeholder tensor 'gradients/split_grad/concat/split/split_dim' with dtype int32\n",
      "\t [[{{node gradients/split_grad/concat/split/split_dim}}]]\n",
      "2024-05-28 17:01:03.228904: I tensorflow/core/common_runtime/executor.cc:1197] [/device:CPU:0] (DEBUG INFO) Executor start aborting (this does not indicate an error and you can ignore this message): INVALID_ARGUMENT: You must feed a value for placeholder tensor 'gradients/split_1_grad/concat/split_1/split_dim' with dtype int32\n",
      "\t [[{{node gradients/split_1_grad/concat/split_1/split_dim}}]]\n",
      "2024-05-28 17:01:03.394573: I tensorflow/core/common_runtime/executor.cc:1197] [/device:CPU:0] (DEBUG INFO) Executor start aborting (this does not indicate an error and you can ignore this message): INVALID_ARGUMENT: You must feed a value for placeholder tensor 'gradients/split_2_grad/concat/split_2/split_dim' with dtype int32\n",
      "\t [[{{node gradients/split_2_grad/concat/split_2/split_dim}}]]\n",
      "2024-05-28 17:01:03.395864: I tensorflow/core/common_runtime/executor.cc:1197] [/device:CPU:0] (DEBUG INFO) Executor start aborting (this does not indicate an error and you can ignore this message): INVALID_ARGUMENT: You must feed a value for placeholder tensor 'gradients/split_grad/concat/split/split_dim' with dtype int32\n",
      "\t [[{{node gradients/split_grad/concat/split/split_dim}}]]\n",
      "2024-05-28 17:01:03.397060: I tensorflow/core/common_runtime/executor.cc:1197] [/device:CPU:0] (DEBUG INFO) Executor start aborting (this does not indicate an error and you can ignore this message): INVALID_ARGUMENT: You must feed a value for placeholder tensor 'gradients/split_1_grad/concat/split_1/split_dim' with dtype int32\n",
      "\t [[{{node gradients/split_1_grad/concat/split_1/split_dim}}]]\n"
     ]
    },
    {
     "name": "stdout",
     "output_type": "stream",
     "text": [
      "Model: \"sequential\"\n",
      "_________________________________________________________________\n",
      " Layer (type)                Output Shape              Param #   \n",
      "=================================================================\n",
      " embedding (Embedding)       (None, 47, 300)           8724600   \n",
      "                                                                 \n",
      " lstm (LSTM)                 (None, 47, 128)           219648    \n",
      "                                                                 \n",
      " dropout (Dropout)           (None, 47, 128)           0         \n",
      "                                                                 \n",
      " lstm_1 (LSTM)               (None, 64)                49408     \n",
      "                                                                 \n",
      " dropout_1 (Dropout)         (None, 64)                0         \n",
      "                                                                 \n",
      " dense (Dense)               (None, 3)                 195       \n",
      "                                                                 \n",
      "=================================================================\n",
      "Total params: 8,993,851\n",
      "Trainable params: 8,993,851\n",
      "Non-trainable params: 0\n",
      "_________________________________________________________________\n"
     ]
    }
   ],
   "source": [
    "vec_size = 300\n",
    "model = Sequential()\n",
    "model.add(Embedding(len(token.index_word) + 1, vec_size, input_length=MAX_SEQUENCE_LENGTH))\n",
    "model.add(LSTM(128, return_sequences=True))\n",
    "model.add(Dropout(0.2))\n",
    "model.add(LSTM(64))\n",
    "model.add(Dropout(0.2))\n",
    "model.add(Dense(3, activation='softmax'))  # Output layer with softmax activation\n",
    "\n",
    "model.compile(loss='categorical_crossentropy', optimizer=tf.optimizers.Adam(learning_rate=0.0001), metrics=['accuracy'])\n",
    "model.summary()"
   ]
  },
  {
   "cell_type": "code",
   "execution_count": 20,
   "metadata": {},
   "outputs": [
    {
     "name": "stdout",
     "output_type": "stream",
     "text": [
      "Epoch 1/20\n",
      "897/897 [==============================] - ETA: 0s - loss: 1.0896 - accuracy: 0.3459"
     ]
    },
    {
     "name": "stderr",
     "output_type": "stream",
     "text": [
      "2024-05-28 17:05:32.732846: I tensorflow/core/common_runtime/executor.cc:1197] [/device:CPU:0] (DEBUG INFO) Executor start aborting (this does not indicate an error and you can ignore this message): INVALID_ARGUMENT: You must feed a value for placeholder tensor 'gradients/split_2_grad/concat/split_2/split_dim' with dtype int32\n",
      "\t [[{{node gradients/split_2_grad/concat/split_2/split_dim}}]]\n",
      "2024-05-28 17:05:32.734071: I tensorflow/core/common_runtime/executor.cc:1197] [/device:CPU:0] (DEBUG INFO) Executor start aborting (this does not indicate an error and you can ignore this message): INVALID_ARGUMENT: You must feed a value for placeholder tensor 'gradients/split_grad/concat/split/split_dim' with dtype int32\n",
      "\t [[{{node gradients/split_grad/concat/split/split_dim}}]]\n",
      "2024-05-28 17:05:32.735082: I tensorflow/core/common_runtime/executor.cc:1197] [/device:CPU:0] (DEBUG INFO) Executor start aborting (this does not indicate an error and you can ignore this message): INVALID_ARGUMENT: You must feed a value for placeholder tensor 'gradients/split_1_grad/concat/split_1/split_dim' with dtype int32\n",
      "\t [[{{node gradients/split_1_grad/concat/split_1/split_dim}}]]\n",
      "2024-05-28 17:05:32.886937: I tensorflow/core/common_runtime/executor.cc:1197] [/device:CPU:0] (DEBUG INFO) Executor start aborting (this does not indicate an error and you can ignore this message): INVALID_ARGUMENT: You must feed a value for placeholder tensor 'gradients/split_2_grad/concat/split_2/split_dim' with dtype int32\n",
      "\t [[{{node gradients/split_2_grad/concat/split_2/split_dim}}]]\n",
      "2024-05-28 17:05:32.888008: I tensorflow/core/common_runtime/executor.cc:1197] [/device:CPU:0] (DEBUG INFO) Executor start aborting (this does not indicate an error and you can ignore this message): INVALID_ARGUMENT: You must feed a value for placeholder tensor 'gradients/split_grad/concat/split/split_dim' with dtype int32\n",
      "\t [[{{node gradients/split_grad/concat/split/split_dim}}]]\n",
      "2024-05-28 17:05:32.889107: I tensorflow/core/common_runtime/executor.cc:1197] [/device:CPU:0] (DEBUG INFO) Executor start aborting (this does not indicate an error and you can ignore this message): INVALID_ARGUMENT: You must feed a value for placeholder tensor 'gradients/split_1_grad/concat/split_1/split_dim' with dtype int32\n",
      "\t [[{{node gradients/split_1_grad/concat/split_1/split_dim}}]]\n"
     ]
    },
    {
     "name": "stdout",
     "output_type": "stream",
     "text": [
      "897/897 [==============================] - 168s 187ms/step - loss: 1.0896 - accuracy: 0.3459 - val_loss: 0.9346 - val_accuracy: 0.5187 - lr: 1.0000e-04\n",
      "Epoch 2/20\n",
      "897/897 [==============================] - 160s 178ms/step - loss: 0.7399 - accuracy: 0.6465 - val_loss: 0.6227 - val_accuracy: 0.7568 - lr: 1.0000e-04\n",
      "Epoch 3/20\n",
      "897/897 [==============================] - 158s 176ms/step - loss: 0.3966 - accuracy: 0.8575 - val_loss: 0.3719 - val_accuracy: 0.8701 - lr: 1.0000e-04\n",
      "Epoch 4/20\n",
      "897/897 [==============================] - 161s 180ms/step - loss: 0.1898 - accuracy: 0.9413 - val_loss: 0.2840 - val_accuracy: 0.9078 - lr: 1.0000e-04\n",
      "Epoch 5/20\n",
      "897/897 [==============================] - 157s 175ms/step - loss: 0.1177 - accuracy: 0.9659 - val_loss: 0.2737 - val_accuracy: 0.9143 - lr: 1.0000e-04\n",
      "Epoch 6/20\n",
      "897/897 [==============================] - 163s 181ms/step - loss: 0.0816 - accuracy: 0.9773 - val_loss: 0.3103 - val_accuracy: 0.9084 - lr: 9.0000e-05\n",
      "Epoch 7/20\n",
      "897/897 [==============================] - 161s 179ms/step - loss: 0.0639 - accuracy: 0.9826 - val_loss: 0.2435 - val_accuracy: 0.9294 - lr: 8.1000e-05\n",
      "Epoch 8/20\n",
      "897/897 [==============================] - 159s 177ms/step - loss: 0.0489 - accuracy: 0.9860 - val_loss: 0.2798 - val_accuracy: 0.9178 - lr: 7.2900e-05\n",
      "Epoch 9/20\n",
      "897/897 [==============================] - 159s 178ms/step - loss: 0.0351 - accuracy: 0.9904 - val_loss: 0.2863 - val_accuracy: 0.9294 - lr: 6.5610e-05\n",
      "Epoch 10/20\n",
      "897/897 [==============================] - 156s 174ms/step - loss: 0.0270 - accuracy: 0.9931 - val_loss: 0.2954 - val_accuracy: 0.9341 - lr: 5.9049e-05\n"
     ]
    }
   ],
   "source": [
    "epochs = 100\n",
    "batch_size = 4\n",
    "\n",
    "# Define EarlyStopping and ModelCheckpoint callbacks\n",
    "early_stopping = EarlyStopping(monitor='val_loss', patience=3, restore_best_weights=True)\n",
    "model_checkpoint = ModelCheckpoint('best_model_lstm.h5', save_best_only=True, monitor='val_loss', mode='min')\n",
    "\n",
    "# Train the model with callbacks\n",
    "history = model.fit(X_train, y_train, epochs=20, validation_data=(X_test, y_test), batch_size=32, callbacks=[early_stopping, model_checkpoint, lr_scheduler])"
   ]
  },
  {
   "cell_type": "code",
   "execution_count": 21,
   "metadata": {},
   "outputs": [
    {
     "name": "stdout",
     "output_type": "stream",
     "text": [
      "100/100 [==============================] - 2s 24ms/step - loss: 0.2435 - accuracy: 0.9294\n",
      "Test Loss: 0.24346762895584106\n",
      "Test Accuracy: 0.9294006824493408\n"
     ]
    },
    {
     "name": "stderr",
     "output_type": "stream",
     "text": [
      "2024-05-28 17:31:12.561964: I tensorflow/core/common_runtime/executor.cc:1197] [/device:CPU:0] (DEBUG INFO) Executor start aborting (this does not indicate an error and you can ignore this message): INVALID_ARGUMENT: You must feed a value for placeholder tensor 'gradients/split_2_grad/concat/split_2/split_dim' with dtype int32\n",
      "\t [[{{node gradients/split_2_grad/concat/split_2/split_dim}}]]\n",
      "2024-05-28 17:31:12.563160: I tensorflow/core/common_runtime/executor.cc:1197] [/device:CPU:0] (DEBUG INFO) Executor start aborting (this does not indicate an error and you can ignore this message): INVALID_ARGUMENT: You must feed a value for placeholder tensor 'gradients/split_grad/concat/split/split_dim' with dtype int32\n",
      "\t [[{{node gradients/split_grad/concat/split/split_dim}}]]\n",
      "2024-05-28 17:31:12.564646: I tensorflow/core/common_runtime/executor.cc:1197] [/device:CPU:0] (DEBUG INFO) Executor start aborting (this does not indicate an error and you can ignore this message): INVALID_ARGUMENT: You must feed a value for placeholder tensor 'gradients/split_1_grad/concat/split_1/split_dim' with dtype int32\n",
      "\t [[{{node gradients/split_1_grad/concat/split_1/split_dim}}]]\n",
      "2024-05-28 17:31:12.719614: I tensorflow/core/common_runtime/executor.cc:1197] [/device:CPU:0] (DEBUG INFO) Executor start aborting (this does not indicate an error and you can ignore this message): INVALID_ARGUMENT: You must feed a value for placeholder tensor 'gradients/split_2_grad/concat/split_2/split_dim' with dtype int32\n",
      "\t [[{{node gradients/split_2_grad/concat/split_2/split_dim}}]]\n",
      "2024-05-28 17:31:12.720684: I tensorflow/core/common_runtime/executor.cc:1197] [/device:CPU:0] (DEBUG INFO) Executor start aborting (this does not indicate an error and you can ignore this message): INVALID_ARGUMENT: You must feed a value for placeholder tensor 'gradients/split_grad/concat/split/split_dim' with dtype int32\n",
      "\t [[{{node gradients/split_grad/concat/split/split_dim}}]]\n",
      "2024-05-28 17:31:12.721657: I tensorflow/core/common_runtime/executor.cc:1197] [/device:CPU:0] (DEBUG INFO) Executor start aborting (this does not indicate an error and you can ignore this message): INVALID_ARGUMENT: You must feed a value for placeholder tensor 'gradients/split_1_grad/concat/split_1/split_dim' with dtype int32\n",
      "\t [[{{node gradients/split_1_grad/concat/split_1/split_dim}}]]\n"
     ]
    },
    {
     "name": "stdout",
     "output_type": "stream",
     "text": [
      "100/100 [==============================] - 4s 32ms/step\n",
      "Predicted probabilities: [[6.9997838e-04 9.9789977e-01 1.4002939e-03]\n",
      " [7.4439804e-04 3.5398430e-03 9.9571580e-01]\n",
      " [9.9748898e-01 1.3472395e-03 1.1637663e-03]\n",
      " [5.1357649e-04 9.9865609e-01 8.3035551e-04]\n",
      " [9.0883029e-01 5.6121849e-02 3.5047859e-02]\n",
      " [6.2489667e-04 9.9823070e-01 1.1444601e-03]\n",
      " [8.8266894e-04 5.3182505e-03 9.9379897e-01]\n",
      " [6.7392230e-04 2.5470846e-03 9.9677902e-01]\n",
      " [6.9846038e-04 2.6452783e-03 9.9665624e-01]\n",
      " [6.2078203e-04 9.9823773e-01 1.1414662e-03]]\n",
      "Actual labels: [[0. 1. 0.]\n",
      " [0. 0. 1.]\n",
      " [1. 0. 0.]\n",
      " [0. 1. 0.]\n",
      " [1. 0. 0.]\n",
      " [0. 1. 0.]\n",
      " [0. 0. 1.]\n",
      " [0. 1. 0.]\n",
      " [0. 0. 1.]\n",
      " [0. 1. 0.]]\n",
      "                                                Text  Actual Class  \\\n",
      "0  international leads consumer gainers nio tata ...             1   \n",
      "1         pleased bjorn wahlroos accepted nomination             2   \n",
      "2  us energy information administration projects ...             0   \n",
      "3  edited transcript earnings conference call pre...             1   \n",
      "4  okmetic expects net sales first half 2009 less...             0   \n",
      "5  universities pledged set questions hit strike ...             1   \n",
      "6            company market share continued increase             2   \n",
      "7  mhi selected inclusion four esg investment ind...             1   \n",
      "8       stocks dow 70483 points nasdaq 16539 sp 7215             2   \n",
      "9  ms responsible hkscan hr functions development...             1   \n",
      "\n",
      "   Predicted Class                   Predicted Probabilities  \n",
      "0                1   [0.0006999784, 0.9978998, 0.0014002939]  \n",
      "1                2   [0.00074439804, 0.003539843, 0.9957158]  \n",
      "2                0    [0.997489, 0.0013472395, 0.0011637663]  \n",
      "3                1   [0.0005135765, 0.9986561, 0.0008303555]  \n",
      "4                0       [0.9088303, 0.05612185, 0.03504786]  \n",
      "5                1    [0.00062489667, 0.9982307, 0.00114446]  \n",
      "6                2   [0.00088266894, 0.0053182505, 0.993799]  \n",
      "7                2    [0.0006739223, 0.0025470846, 0.996779]  \n",
      "8                2  [0.0006984604, 0.0026452783, 0.99665624]  \n",
      "9                1    [0.000620782, 0.9982377, 0.0011414662]  \n"
     ]
    }
   ],
   "source": [
    "loss, accuracy = model.evaluate(X_test, y_test)\n",
    "print(f\"Test Loss: {loss}\")\n",
    "print(f\"Test Accuracy: {accuracy}\")\n",
    "\n",
    "# Get predicted probabilities\n",
    "predictions = model.predict(X_test)\n",
    "\n",
    "# Print some example predictions\n",
    "print(\"Predicted probabilities:\", predictions[:10])\n",
    "print(\"Actual labels:\", y_test[:10])\n",
    "\n",
    "# Convert one-hot encoded y_test back to class labels for comparison\n",
    "true_classes = np.argmax(y_test, axis=1)\n",
    "\n",
    "# Create a DataFrame to compare predictions with actual values\n",
    "results_df = pd.DataFrame({\n",
    "    'Text': [\" \".join([token.index_word.get(idx, \"\") for idx in x if idx != 0]) for x in X_test],\n",
    "    'Actual Class': true_classes,\n",
    "    'Predicted Class': np.argmax(predictions, axis=1),\n",
    "    'Predicted Probabilities': list(predictions)\n",
    "})\n",
    "\n",
    "# Show the DataFrame\n",
    "print(results_df.head(10))"
   ]
  },
  {
   "cell_type": "code",
   "execution_count": 22,
   "metadata": {},
   "outputs": [],
   "source": [
    "results_df['sentiment_score'] = results_df['Predicted Probabilities'].apply(lambda x: -1 * x[0] + 1 * x[2])"
   ]
  },
  {
   "cell_type": "code",
   "execution_count": 23,
   "metadata": {},
   "outputs": [],
   "source": [
    "results_df.to_excel(\"scores_lstm.xlsx\")"
   ]
  },
  {
   "cell_type": "code",
   "execution_count": 24,
   "metadata": {},
   "outputs": [],
   "source": [
    "model.save(\"sentimentModel_lstm.keras\")"
   ]
  },
  {
   "cell_type": "code",
   "execution_count": 25,
   "metadata": {},
   "outputs": [],
   "source": [
    "with open('tokenizer_lstm.pickle', 'wb') as handle:\n",
    "    pickle.dump(token, handle, protocol=pickle.HIGHEST_PROTOCOL)"
   ]
  },
  {
   "cell_type": "code",
   "execution_count": null,
   "metadata": {},
   "outputs": [],
   "source": []
  }
 ],
 "metadata": {
  "kernelspec": {
   "display_name": "Python 3",
   "language": "python",
   "name": "python3"
  },
  "language_info": {
   "codemirror_mode": {
    "name": "ipython",
    "version": 3
   },
   "file_extension": ".py",
   "mimetype": "text/x-python",
   "name": "python",
   "nbconvert_exporter": "python",
   "pygments_lexer": "ipython3",
   "version": "3.10.12"
  }
 },
 "nbformat": 4,
 "nbformat_minor": 2
}
