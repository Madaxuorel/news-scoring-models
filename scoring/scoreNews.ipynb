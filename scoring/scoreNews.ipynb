{
 "cells": [
  {
   "cell_type": "code",
   "execution_count": 8,
   "metadata": {},
   "outputs": [],
   "source": [
    "from newsSentimentScoring import newsLineToScore\n",
    "import pandas as pd"
   ]
  },
  {
   "cell_type": "code",
   "execution_count": 4,
   "metadata": {},
   "outputs": [],
   "source": [
    "test_headlines = [\n",
    "    \"Company X reports record-breaking quarterly earnings, exceeding analyst expectations.\",\n",
    "    \"Tech giant Y announces a major partnership with Z, driving stock prices up by 15%.\",\n",
    "    \"Startup A secures $50 million in funding to expand its innovative product line.\",\n",
    "    \"Retailer B sees a surge in sales during the holiday season, forecasting strong growth.\",\n",
    "    \"Bank C receives regulatory approval for its new digital banking platform, boosting investor confidence.\",\n",
    "    \"Company D's stock plummets after reporting significant losses in the third quarter.\",\n",
    "    \"Major layoffs announced at Corporation E as it struggles to cope with declining revenues.\",\n",
    "    \"Retailer F faces backlash over supply chain issues, resulting in a 10% drop in sales.\",\n",
    "    \"Energy firm G fined $20 million for environmental violations, causing shares to fall.\",\n",
    "    \"Tech startup H files for bankruptcy after failing to secure additional funding.\"\n",
    "]"
   ]
  },
  {
   "cell_type": "code",
   "execution_count": 5,
   "metadata": {},
   "outputs": [
    {
     "name": "stderr",
     "output_type": "stream",
     "text": [
      "100%|██████████| 10/10 [00:00<00:00, 2367.39it/s]\n"
     ]
    },
    {
     "name": "stdout",
     "output_type": "stream",
     "text": [
      "['company x reports recordbreaking quarterly earnings exceeding analyst expectations', 'tech giant announces major partnership z driving stock prices 15', 'startup secures 50 million funding expand innovative product line', 'retailer b sees surge sales holiday season forecasting strong growth', 'bank c receives regulatory approval new digital banking platform boosting investor confidence', 'company ds stock plummets reporting significant losses third quarter', 'major layoffs announced corporation e struggles cope declining revenues', 'retailer f faces backlash supply chain issues resulting 10 drop sales', 'energy firm g fined 20 million environmental violations causing shares fall', 'tech startup h files bankruptcy failing secure additional funding']\n",
      "[[4, 5522, 55, 2936, 660, 24, 10762, 237, 289], [563, 1371, 201, 280, 1528, 7302, 1518, 2, 88, 167], [1853, 2292, 403, 11, 1715, 744, 1769, 414, 221], [872, 769, 171, 372, 5, 672, 1324, 1416, 118, 40], [47, 639, 2103, 2682, 864, 9, 771, 1398, 926, 3870, 318, 876], [4, 2, 2631, 1162, 501, 452, 142, 18], [280, 491, 302, 78, 1751, 17531, 12227, 954], [872, 3519, 942, 3420, 186, 727, 1511, 5446, 108, 275, 5], [67, 870, 2364, 2522, 164, 11, 1392, 7557, 9740, 14, 251], [563, 1853, 4046, 977, 1800, 6451, 2791, 947, 1715]]\n",
      "1/1 [==============================] - 0s 165ms/step\n"
     ]
    }
   ],
   "source": [
    "cnn_sentiments = newsLineToScore(test_headlines,\"CNN\")"
   ]
  },
  {
   "cell_type": "code",
   "execution_count": 6,
   "metadata": {},
   "outputs": [
    {
     "name": "stderr",
     "output_type": "stream",
     "text": [
      "100%|██████████| 10/10 [00:00<00:00, 2758.87it/s]\n"
     ]
    },
    {
     "name": "stdout",
     "output_type": "stream",
     "text": [
      "['company x reports recordbreaking quarterly earnings exceeding analyst expectations', 'tech giant announces major partnership z driving stock prices 15', 'startup secures 50 million funding expand innovative product line', 'retailer b sees surge sales holiday season forecasting strong growth', 'bank c receives regulatory approval new digital banking platform boosting investor confidence', 'company ds stock plummets reporting significant losses third quarter', 'major layoffs announced corporation e struggles cope declining revenues', 'retailer f faces backlash supply chain issues resulting 10 drop sales', 'energy firm g fined 20 million environmental violations causing shares fall', 'tech startup h files bankruptcy failing secure additional funding']\n",
      "[[4, 5522, 55, 2936, 660, 24, 10762, 237, 289], [563, 1371, 201, 280, 1528, 7302, 1518, 2, 88, 167], [1853, 2292, 403, 11, 1715, 744, 1769, 414, 221], [872, 769, 171, 372, 5, 672, 1324, 1416, 118, 40], [47, 639, 2103, 2682, 864, 9, 771, 1398, 926, 3870, 318, 876], [4, 2, 2631, 1162, 501, 452, 142, 18], [280, 491, 302, 78, 1751, 17531, 12227, 954], [872, 3519, 942, 3420, 186, 727, 1511, 5446, 108, 275, 5], [67, 870, 2364, 2522, 164, 11, 1392, 7557, 9740, 14, 251], [563, 1853, 4046, 977, 1800, 6451, 2791, 947, 1715]]\n"
     ]
    },
    {
     "name": "stderr",
     "output_type": "stream",
     "text": [
      "2024-05-28 17:38:50.770316: I tensorflow/core/common_runtime/executor.cc:1197] [/device:CPU:0] (DEBUG INFO) Executor start aborting (this does not indicate an error and you can ignore this message): INVALID_ARGUMENT: You must feed a value for placeholder tensor 'gradients/split_2_grad/concat/split_2/split_dim' with dtype int32\n",
      "\t [[{{node gradients/split_2_grad/concat/split_2/split_dim}}]]\n",
      "2024-05-28 17:38:50.771852: I tensorflow/core/common_runtime/executor.cc:1197] [/device:CPU:0] (DEBUG INFO) Executor start aborting (this does not indicate an error and you can ignore this message): INVALID_ARGUMENT: You must feed a value for placeholder tensor 'gradients/split_grad/concat/split/split_dim' with dtype int32\n",
      "\t [[{{node gradients/split_grad/concat/split/split_dim}}]]\n",
      "2024-05-28 17:38:50.773390: I tensorflow/core/common_runtime/executor.cc:1197] [/device:CPU:0] (DEBUG INFO) Executor start aborting (this does not indicate an error and you can ignore this message): INVALID_ARGUMENT: You must feed a value for placeholder tensor 'gradients/split_1_grad/concat/split_1/split_dim' with dtype int32\n",
      "\t [[{{node gradients/split_1_grad/concat/split_1/split_dim}}]]\n",
      "2024-05-28 17:38:50.997723: I tensorflow/core/common_runtime/executor.cc:1197] [/device:CPU:0] (DEBUG INFO) Executor start aborting (this does not indicate an error and you can ignore this message): INVALID_ARGUMENT: You must feed a value for placeholder tensor 'gradients/split_2_grad/concat/split_2/split_dim' with dtype int32\n",
      "\t [[{{node gradients/split_2_grad/concat/split_2/split_dim}}]]\n",
      "2024-05-28 17:38:50.999257: I tensorflow/core/common_runtime/executor.cc:1197] [/device:CPU:0] (DEBUG INFO) Executor start aborting (this does not indicate an error and you can ignore this message): INVALID_ARGUMENT: You must feed a value for placeholder tensor 'gradients/split_grad/concat/split/split_dim' with dtype int32\n",
      "\t [[{{node gradients/split_grad/concat/split/split_dim}}]]\n",
      "2024-05-28 17:38:51.000365: I tensorflow/core/common_runtime/executor.cc:1197] [/device:CPU:0] (DEBUG INFO) Executor start aborting (this does not indicate an error and you can ignore this message): INVALID_ARGUMENT: You must feed a value for placeholder tensor 'gradients/split_1_grad/concat/split_1/split_dim' with dtype int32\n",
      "\t [[{{node gradients/split_1_grad/concat/split_1/split_dim}}]]\n",
      "2024-05-28 17:38:51.665603: I tensorflow/core/common_runtime/executor.cc:1197] [/device:CPU:0] (DEBUG INFO) Executor start aborting (this does not indicate an error and you can ignore this message): INVALID_ARGUMENT: You must feed a value for placeholder tensor 'gradients/split_2_grad/concat/split_2/split_dim' with dtype int32\n",
      "\t [[{{node gradients/split_2_grad/concat/split_2/split_dim}}]]\n",
      "2024-05-28 17:38:51.667063: I tensorflow/core/common_runtime/executor.cc:1197] [/device:CPU:0] (DEBUG INFO) Executor start aborting (this does not indicate an error and you can ignore this message): INVALID_ARGUMENT: You must feed a value for placeholder tensor 'gradients/split_grad/concat/split/split_dim' with dtype int32\n",
      "\t [[{{node gradients/split_grad/concat/split/split_dim}}]]\n",
      "2024-05-28 17:38:51.668206: I tensorflow/core/common_runtime/executor.cc:1197] [/device:CPU:0] (DEBUG INFO) Executor start aborting (this does not indicate an error and you can ignore this message): INVALID_ARGUMENT: You must feed a value for placeholder tensor 'gradients/split_1_grad/concat/split_1/split_dim' with dtype int32\n",
      "\t [[{{node gradients/split_1_grad/concat/split_1/split_dim}}]]\n"
     ]
    },
    {
     "name": "stdout",
     "output_type": "stream",
     "text": [
      "1/1 [==============================] - 1s 675ms/step\n"
     ]
    },
    {
     "name": "stderr",
     "output_type": "stream",
     "text": [
      "2024-05-28 17:38:51.958858: I tensorflow/core/common_runtime/executor.cc:1197] [/device:CPU:0] (DEBUG INFO) Executor start aborting (this does not indicate an error and you can ignore this message): INVALID_ARGUMENT: You must feed a value for placeholder tensor 'gradients/split_2_grad/concat/split_2/split_dim' with dtype int32\n",
      "\t [[{{node gradients/split_2_grad/concat/split_2/split_dim}}]]\n",
      "2024-05-28 17:38:51.960378: I tensorflow/core/common_runtime/executor.cc:1197] [/device:CPU:0] (DEBUG INFO) Executor start aborting (this does not indicate an error and you can ignore this message): INVALID_ARGUMENT: You must feed a value for placeholder tensor 'gradients/split_grad/concat/split/split_dim' with dtype int32\n",
      "\t [[{{node gradients/split_grad/concat/split/split_dim}}]]\n",
      "2024-05-28 17:38:51.962062: I tensorflow/core/common_runtime/executor.cc:1197] [/device:CPU:0] (DEBUG INFO) Executor start aborting (this does not indicate an error and you can ignore this message): INVALID_ARGUMENT: You must feed a value for placeholder tensor 'gradients/split_1_grad/concat/split_1/split_dim' with dtype int32\n",
      "\t [[{{node gradients/split_1_grad/concat/split_1/split_dim}}]]\n"
     ]
    }
   ],
   "source": [
    "lstm_sentiments = newsLineToScore(test_headlines,\"LSTM\")"
   ]
  },
  {
   "cell_type": "code",
   "execution_count": null,
   "metadata": {},
   "outputs": [],
   "source": [
    "results = pd.DataFrame({\n",
    "    'News':test_headlines,\n",
    "    'CNN':cnn_sentiments,\n",
    "    'LSTM':lstm_sentiments,\n",
    "    \"Real\":[\"Positive\", \"Positive\", \"Positive\", \"Positive\", \"Positive\", \"Negative\", \"Negative\", \"Negative\", \"Negative\", \"Negative\"]\n",
    "})"
   ]
  }
 ],
 "metadata": {
  "kernelspec": {
   "display_name": "Python 3",
   "language": "python",
   "name": "python3"
  },
  "language_info": {
   "codemirror_mode": {
    "name": "ipython",
    "version": 3
   },
   "file_extension": ".py",
   "mimetype": "text/x-python",
   "name": "python",
   "nbconvert_exporter": "python",
   "pygments_lexer": "ipython3",
   "version": "3.10.12"
  }
 },
 "nbformat": 4,
 "nbformat_minor": 2
}
