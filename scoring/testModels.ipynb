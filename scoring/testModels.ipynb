{
 "cells": [
  {
   "cell_type": "code",
   "execution_count": 2,
   "metadata": {},
   "outputs": [
    {
     "name": "stderr",
     "output_type": "stream",
     "text": [
      "2024-05-29 18:11:29.467568: I tensorflow/tsl/cuda/cudart_stub.cc:28] Could not find cuda drivers on your machine, GPU will not be used.\n",
      "2024-05-29 18:11:29.515734: I tensorflow/tsl/cuda/cudart_stub.cc:28] Could not find cuda drivers on your machine, GPU will not be used.\n",
      "2024-05-29 18:11:29.516681: I tensorflow/core/platform/cpu_feature_guard.cc:182] This TensorFlow binary is optimized to use available CPU instructions in performance-critical operations.\n",
      "To enable the following instructions: AVX2 FMA, in other operations, rebuild TensorFlow with the appropriate compiler flags.\n",
      "2024-05-29 18:11:30.502350: W tensorflow/compiler/tf2tensorrt/utils/py_utils.cc:38] TF-TRT Warning: Could not find TensorRT\n",
      "[nltk_data] Downloading package punkt to /home/adam/nltk_data...\n",
      "[nltk_data]   Package punkt is already up-to-date!\n",
      "[nltk_data] Downloading package wordnet to /home/adam/nltk_data...\n",
      "[nltk_data]   Package wordnet is already up-to-date!\n",
      "[nltk_data] Downloading package omw-1.4 to /home/adam/nltk_data...\n",
      "[nltk_data]   Package omw-1.4 is already up-to-date!\n",
      "[nltk_data] Downloading package stopwords to /home/adam/nltk_data...\n",
      "[nltk_data]   Package stopwords is already up-to-date!\n"
     ]
    }
   ],
   "source": [
    "from newsSentimentScoring import newsLineToScore\n",
    "import pandas as pd\n",
    "from sklearn.metrics import accuracy_score, classification_report"
   ]
  },
  {
   "cell_type": "code",
   "execution_count": 3,
   "metadata": {},
   "outputs": [],
   "source": [
    "test_headlines = [\n",
    "    # Positive Sentiment Examples\n",
    "    \"Company X reports record-breaking quarterly earnings, exceeding analyst expectations.\",\n",
    "    \"Tech giant Y announces a major partnership with Z, driving stock prices up by 15%.\",\n",
    "    \"Startup A secures $50 million in funding to expand its innovative product line.\",\n",
    "    \"Retailer B sees a surge in sales during the holiday season, forecasting strong growth.\",\n",
    "    \"Bank C receives regulatory approval for its new digital banking platform, boosting investor confidence.\",\n",
    "    \n",
    "    # Negative Sentiment Examples\n",
    "    \"Company D's stock plummets after reporting significant losses in the third quarter.\",\n",
    "    \"Major layoffs announced at Corporation E as it struggles to cope with declining revenues.\",\n",
    "    \"Retailer F faces backlash over supply chain issues, resulting in a 10% drop in sales.\",\n",
    "    \"Energy firm G fined $20 million for environmental violations, causing shares to fall.\",\n",
    "    \"Tech startup H files for bankruptcy after failing to secure additional funding.\",\n",
    "    \n",
    "    # Neutral Sentiment Examples\n",
    "    \"Company X appoints a new member to its board of directors.\",\n",
    "    \"Tech giant Y to host its annual developer conference next month.\",\n",
    "    \"Startup A releases a minor update to its flagship app.\",\n",
    "    \"Retailer B opens a new store in downtown area.\",\n",
    "    \"Bank C participates in the global financial summit this year.\"\n",
    "]\n"
   ]
  },
  {
   "cell_type": "code",
   "execution_count": 4,
   "metadata": {},
   "outputs": [
    {
     "name": "stderr",
     "output_type": "stream",
     "text": [
      "  0%|          | 0/15 [00:00<?, ?it/s]"
     ]
    },
    {
     "name": "stderr",
     "output_type": "stream",
     "text": [
      "100%|██████████| 15/15 [00:00<00:00, 906.12it/s]\n",
      "2024-05-29 18:11:31.574031: W tensorflow/tsl/framework/cpu_allocator_impl.cc:83] Allocation of 34898400 exceeds 10% of free system memory.\n",
      "2024-05-29 18:11:31.603039: W tensorflow/tsl/framework/cpu_allocator_impl.cc:83] Allocation of 34898400 exceeds 10% of free system memory.\n",
      "2024-05-29 18:11:31.617264: W tensorflow/tsl/framework/cpu_allocator_impl.cc:83] Allocation of 34898400 exceeds 10% of free system memory.\n"
     ]
    },
    {
     "name": "stdout",
     "output_type": "stream",
     "text": [
      "['company x reports recordbreaking quarterly earnings exceeding analyst expectations', 'tech giant announces major partnership z driving stock prices 15', 'startup secures 50 million funding expand innovative product line', 'retailer b sees surge sales holiday season forecasting strong growth', 'bank c receives regulatory approval new digital banking platform boosting investor confidence', 'company ds stock plummets reporting significant losses third quarter', 'major layoffs announced corporation e struggles cope declining revenues', 'retailer f faces backlash supply chain issues resulting 10 drop sales', 'energy firm g fined 20 million environmental violations causing shares fall', 'tech startup h files bankruptcy failing secure additional funding', 'company x appoints new member board directors', 'tech giant host annual developer conference next month', 'startup releases minor update flagship app', 'retailer b opens new store downtown area', 'bank c participates global financial summit year']\n",
      "[[4, 5522, 55, 2936, 660, 24, 10762, 237, 289], [563, 1371, 201, 280, 1528, 7302, 1518, 2, 88, 167], [1853, 2292, 403, 11, 1715, 744, 1769, 414, 221], [872, 769, 171, 372, 5, 672, 1324, 1416, 118, 40], [47, 639, 2103, 2682, 864, 9, 771, 1398, 926, 3870, 318, 876], [4, 2, 2631, 1162, 501, 452, 142, 18], [280, 491, 302, 78, 1751, 17531, 12227, 954], [872, 3519, 942, 3420, 186, 727, 1511, 5446, 108, 275, 5], [67, 870, 2364, 2522, 164, 11, 1392, 7557, 9740, 14, 251], [563, 1853, 4046, 977, 1800, 6451, 2791, 947, 1715], [4, 5522, 2608, 9, 2279, 196, 649], [563, 1371, 5183, 294, 520, 240, 144, 356], [1853, 4673, 11946, 60, 11161, 2303], [872, 769, 893, 9, 542, 4076, 451], [47, 639, 13405, 58, 57, 2433, 13]]\n"
     ]
    },
    {
     "name": "stderr",
     "output_type": "stream",
     "text": [
      "2024-05-29 18:11:31.898928: W tensorflow/tsl/framework/cpu_allocator_impl.cc:83] Allocation of 34898400 exceeds 10% of free system memory.\n",
      "2024-05-29 18:11:31.944737: W tensorflow/tsl/framework/cpu_allocator_impl.cc:83] Allocation of 34898400 exceeds 10% of free system memory.\n"
     ]
    },
    {
     "name": "stdout",
     "output_type": "stream",
     "text": [
      "1/1 [==============================] - 0s 235ms/step\n"
     ]
    }
   ],
   "source": [
    "cnn_sentiments = newsLineToScore(test_headlines,\"CNN\")"
   ]
  },
  {
   "cell_type": "code",
   "execution_count": 5,
   "metadata": {},
   "outputs": [
    {
     "name": "stderr",
     "output_type": "stream",
     "text": [
      "100%|██████████| 15/15 [00:00<00:00, 2006.72it/s]"
     ]
    },
    {
     "name": "stdout",
     "output_type": "stream",
     "text": [
      "['company x reports recordbreaking quarterly earnings exceeding analyst expectations', 'tech giant announces major partnership z driving stock prices 15', 'startup secures 50 million funding expand innovative product line', 'retailer b sees surge sales holiday season forecasting strong growth', 'bank c receives regulatory approval new digital banking platform boosting investor confidence', 'company ds stock plummets reporting significant losses third quarter', 'major layoffs announced corporation e struggles cope declining revenues', 'retailer f faces backlash supply chain issues resulting 10 drop sales', 'energy firm g fined 20 million environmental violations causing shares fall', 'tech startup h files bankruptcy failing secure additional funding', 'company x appoints new member board directors', 'tech giant host annual developer conference next month', 'startup releases minor update flagship app', 'retailer b opens new store downtown area', 'bank c participates global financial summit year']\n",
      "[[4, 5522, 55, 2936, 660, 24, 10762, 237, 289], [563, 1371, 201, 280, 1528, 7302, 1518, 2, 88, 167], [1853, 2292, 403, 11, 1715, 744, 1769, 414, 221], [872, 769, 171, 372, 5, 672, 1324, 1416, 118, 40], [47, 639, 2103, 2682, 864, 9, 771, 1398, 926, 3870, 318, 876], [4, 2, 2631, 1162, 501, 452, 142, 18], [280, 491, 302, 78, 1751, 17531, 12227, 954], [872, 3519, 942, 3420, 186, 727, 1511, 5446, 108, 275, 5], [67, 870, 2364, 2522, 164, 11, 1392, 7557, 9740, 14, 251], [563, 1853, 4046, 977, 1800, 6451, 2791, 947, 1715], [4, 5522, 2608, 9, 2279, 196, 649], [563, 1371, 5183, 294, 520, 240, 144, 356], [1853, 4673, 11946, 60, 11161, 2303], [872, 769, 893, 9, 542, 4076, 451], [47, 639, 13405, 58, 57, 2433, 13]]\n"
     ]
    },
    {
     "name": "stderr",
     "output_type": "stream",
     "text": [
      "\n",
      "2024-05-29 18:11:33.088129: I tensorflow/core/common_runtime/executor.cc:1197] [/device:CPU:0] (DEBUG INFO) Executor start aborting (this does not indicate an error and you can ignore this message): INVALID_ARGUMENT: You must feed a value for placeholder tensor 'gradients/split_2_grad/concat/split_2/split_dim' with dtype int32\n",
      "\t [[{{node gradients/split_2_grad/concat/split_2/split_dim}}]]\n",
      "2024-05-29 18:11:33.090060: I tensorflow/core/common_runtime/executor.cc:1197] [/device:CPU:0] (DEBUG INFO) Executor start aborting (this does not indicate an error and you can ignore this message): INVALID_ARGUMENT: You must feed a value for placeholder tensor 'gradients/split_grad/concat/split/split_dim' with dtype int32\n",
      "\t [[{{node gradients/split_grad/concat/split/split_dim}}]]\n",
      "2024-05-29 18:11:33.091340: I tensorflow/core/common_runtime/executor.cc:1197] [/device:CPU:0] (DEBUG INFO) Executor start aborting (this does not indicate an error and you can ignore this message): INVALID_ARGUMENT: You must feed a value for placeholder tensor 'gradients/split_1_grad/concat/split_1/split_dim' with dtype int32\n",
      "\t [[{{node gradients/split_1_grad/concat/split_1/split_dim}}]]\n",
      "2024-05-29 18:11:33.284533: I tensorflow/core/common_runtime/executor.cc:1197] [/device:CPU:0] (DEBUG INFO) Executor start aborting (this does not indicate an error and you can ignore this message): INVALID_ARGUMENT: You must feed a value for placeholder tensor 'gradients/split_2_grad/concat/split_2/split_dim' with dtype int32\n",
      "\t [[{{node gradients/split_2_grad/concat/split_2/split_dim}}]]\n",
      "2024-05-29 18:11:33.285654: I tensorflow/core/common_runtime/executor.cc:1197] [/device:CPU:0] (DEBUG INFO) Executor start aborting (this does not indicate an error and you can ignore this message): INVALID_ARGUMENT: You must feed a value for placeholder tensor 'gradients/split_grad/concat/split/split_dim' with dtype int32\n",
      "\t [[{{node gradients/split_grad/concat/split/split_dim}}]]\n",
      "2024-05-29 18:11:33.286677: I tensorflow/core/common_runtime/executor.cc:1197] [/device:CPU:0] (DEBUG INFO) Executor start aborting (this does not indicate an error and you can ignore this message): INVALID_ARGUMENT: You must feed a value for placeholder tensor 'gradients/split_1_grad/concat/split_1/split_dim' with dtype int32\n",
      "\t [[{{node gradients/split_1_grad/concat/split_1/split_dim}}]]\n",
      "2024-05-29 18:11:34.105976: I tensorflow/core/common_runtime/executor.cc:1197] [/device:CPU:0] (DEBUG INFO) Executor start aborting (this does not indicate an error and you can ignore this message): INVALID_ARGUMENT: You must feed a value for placeholder tensor 'gradients/split_2_grad/concat/split_2/split_dim' with dtype int32\n",
      "\t [[{{node gradients/split_2_grad/concat/split_2/split_dim}}]]\n",
      "2024-05-29 18:11:34.110528: I tensorflow/core/common_runtime/executor.cc:1197] [/device:CPU:0] (DEBUG INFO) Executor start aborting (this does not indicate an error and you can ignore this message): INVALID_ARGUMENT: You must feed a value for placeholder tensor 'gradients/split_grad/concat/split/split_dim' with dtype int32\n",
      "\t [[{{node gradients/split_grad/concat/split/split_dim}}]]\n",
      "2024-05-29 18:11:34.112762: I tensorflow/core/common_runtime/executor.cc:1197] [/device:CPU:0] (DEBUG INFO) Executor start aborting (this does not indicate an error and you can ignore this message): INVALID_ARGUMENT: You must feed a value for placeholder tensor 'gradients/split_1_grad/concat/split_1/split_dim' with dtype int32\n",
      "\t [[{{node gradients/split_1_grad/concat/split_1/split_dim}}]]\n",
      "2024-05-29 18:11:34.277796: I tensorflow/core/common_runtime/executor.cc:1197] [/device:CPU:0] (DEBUG INFO) Executor start aborting (this does not indicate an error and you can ignore this message): INVALID_ARGUMENT: You must feed a value for placeholder tensor 'gradients/split_2_grad/concat/split_2/split_dim' with dtype int32\n",
      "\t [[{{node gradients/split_2_grad/concat/split_2/split_dim}}]]\n",
      "2024-05-29 18:11:34.278905: I tensorflow/core/common_runtime/executor.cc:1197] [/device:CPU:0] (DEBUG INFO) Executor start aborting (this does not indicate an error and you can ignore this message): INVALID_ARGUMENT: You must feed a value for placeholder tensor 'gradients/split_grad/concat/split/split_dim' with dtype int32\n",
      "\t [[{{node gradients/split_grad/concat/split/split_dim}}]]\n",
      "2024-05-29 18:11:34.279890: I tensorflow/core/common_runtime/executor.cc:1197] [/device:CPU:0] (DEBUG INFO) Executor start aborting (this does not indicate an error and you can ignore this message): INVALID_ARGUMENT: You must feed a value for placeholder tensor 'gradients/split_1_grad/concat/split_1/split_dim' with dtype int32\n",
      "\t [[{{node gradients/split_1_grad/concat/split_1/split_dim}}]]\n"
     ]
    },
    {
     "name": "stdout",
     "output_type": "stream",
     "text": [
      "1/1 [==============================] - 1s 549ms/step\n"
     ]
    }
   ],
   "source": [
    "lstm_sentiments = newsLineToScore(test_headlines,\"LSTM\")"
   ]
  },
  {
   "cell_type": "code",
   "execution_count": 6,
   "metadata": {},
   "outputs": [
    {
     "name": "stderr",
     "output_type": "stream",
     "text": [
      "100%|██████████| 15/15 [00:00<00:00, 1475.79it/s]"
     ]
    },
    {
     "name": "stdout",
     "output_type": "stream",
     "text": [
      "['company x reports recordbreaking quarterly earnings exceeding analyst expectations', 'tech giant announces major partnership z driving stock prices 15', 'startup secures 50 million funding expand innovative product line', 'retailer b sees surge sales holiday season forecasting strong growth', 'bank c receives regulatory approval new digital banking platform boosting investor confidence', 'company ds stock plummets reporting significant losses third quarter', 'major layoffs announced corporation e struggles cope declining revenues', 'retailer f faces backlash supply chain issues resulting 10 drop sales', 'energy firm g fined 20 million environmental violations causing shares fall', 'tech startup h files bankruptcy failing secure additional funding', 'company x appoints new member board directors', 'tech giant host annual developer conference next month', 'startup releases minor update flagship app', 'retailer b opens new store downtown area', 'bank c participates global financial summit year']\n",
      "[[4, 5522, 55, 2936, 660, 24, 10762, 237, 289], [563, 1371, 201, 280, 1528, 7302, 1518, 2, 88, 167], [1853, 2292, 403, 11, 1715, 744, 1769, 414, 221], [872, 769, 171, 372, 5, 672, 1324, 1416, 118, 40], [47, 639, 2103, 2682, 864, 9, 771, 1398, 926, 3870, 318, 876], [4, 2, 2631, 1162, 501, 452, 142, 18], [280, 491, 302, 78, 1751, 17531, 12227, 954], [872, 3519, 942, 3420, 186, 727, 1511, 5446, 108, 275, 5], [67, 870, 2364, 2522, 164, 11, 1392, 7557, 9740, 14, 251], [563, 1853, 4046, 977, 1800, 6451, 2791, 947, 1715], [4, 5522, 2608, 9, 2279, 196, 649], [563, 1371, 5183, 294, 520, 240, 144, 356], [1853, 4673, 11946, 60, 11161, 2303], [872, 769, 893, 9, 542, 4076, 451], [47, 639, 13405, 58, 57, 2433, 13]]\n"
     ]
    },
    {
     "name": "stderr",
     "output_type": "stream",
     "text": [
      "\n",
      "2024-05-29 18:11:34.760158: I tensorflow/core/common_runtime/executor.cc:1197] [/device:CPU:0] (DEBUG INFO) Executor start aborting (this does not indicate an error and you can ignore this message): INVALID_ARGUMENT: You must feed a value for placeholder tensor 'gradients/split_2_grad/concat/split_2/split_dim' with dtype int32\n",
      "\t [[{{node gradients/split_2_grad/concat/split_2/split_dim}}]]\n",
      "2024-05-29 18:11:34.761638: I tensorflow/core/common_runtime/executor.cc:1197] [/device:CPU:0] (DEBUG INFO) Executor start aborting (this does not indicate an error and you can ignore this message): INVALID_ARGUMENT: You must feed a value for placeholder tensor 'gradients/split_grad/concat/split/split_dim' with dtype int32\n",
      "\t [[{{node gradients/split_grad/concat/split/split_dim}}]]\n",
      "2024-05-29 18:11:34.762974: I tensorflow/core/common_runtime/executor.cc:1197] [/device:CPU:0] (DEBUG INFO) Executor start aborting (this does not indicate an error and you can ignore this message): INVALID_ARGUMENT: You must feed a value for placeholder tensor 'gradients/split_1_grad/concat/split_1/split_dim' with dtype int32\n",
      "\t [[{{node gradients/split_1_grad/concat/split_1/split_dim}}]]\n",
      "2024-05-29 18:11:34.937901: I tensorflow/core/common_runtime/executor.cc:1197] [/device:CPU:0] (DEBUG INFO) Executor start aborting (this does not indicate an error and you can ignore this message): INVALID_ARGUMENT: You must feed a value for placeholder tensor 'gradients/split_2_grad/concat/split_2/split_dim' with dtype int32\n",
      "\t [[{{node gradients/split_2_grad/concat/split_2/split_dim}}]]\n",
      "2024-05-29 18:11:34.939323: I tensorflow/core/common_runtime/executor.cc:1197] [/device:CPU:0] (DEBUG INFO) Executor start aborting (this does not indicate an error and you can ignore this message): INVALID_ARGUMENT: You must feed a value for placeholder tensor 'gradients/split_grad/concat/split/split_dim' with dtype int32\n",
      "\t [[{{node gradients/split_grad/concat/split/split_dim}}]]\n",
      "2024-05-29 18:11:34.940871: I tensorflow/core/common_runtime/executor.cc:1197] [/device:CPU:0] (DEBUG INFO) Executor start aborting (this does not indicate an error and you can ignore this message): INVALID_ARGUMENT: You must feed a value for placeholder tensor 'gradients/split_1_grad/concat/split_1/split_dim' with dtype int32\n",
      "\t [[{{node gradients/split_1_grad/concat/split_1/split_dim}}]]\n",
      "2024-05-29 18:11:35.499441: I tensorflow/core/common_runtime/executor.cc:1197] [/device:CPU:0] (DEBUG INFO) Executor start aborting (this does not indicate an error and you can ignore this message): INVALID_ARGUMENT: You must feed a value for placeholder tensor 'gradients/split_2_grad/concat/split_2/split_dim' with dtype int32\n",
      "\t [[{{node gradients/split_2_grad/concat/split_2/split_dim}}]]\n",
      "2024-05-29 18:11:35.501275: I tensorflow/core/common_runtime/executor.cc:1197] [/device:CPU:0] (DEBUG INFO) Executor start aborting (this does not indicate an error and you can ignore this message): INVALID_ARGUMENT: You must feed a value for placeholder tensor 'gradients/split_grad/concat/split/split_dim' with dtype int32\n",
      "\t [[{{node gradients/split_grad/concat/split/split_dim}}]]\n",
      "2024-05-29 18:11:35.502350: I tensorflow/core/common_runtime/executor.cc:1197] [/device:CPU:0] (DEBUG INFO) Executor start aborting (this does not indicate an error and you can ignore this message): INVALID_ARGUMENT: You must feed a value for placeholder tensor 'gradients/split_1_grad/concat/split_1/split_dim' with dtype int32\n",
      "\t [[{{node gradients/split_1_grad/concat/split_1/split_dim}}]]\n",
      "2024-05-29 18:11:35.670265: I tensorflow/core/common_runtime/executor.cc:1197] [/device:CPU:0] (DEBUG INFO) Executor start aborting (this does not indicate an error and you can ignore this message): INVALID_ARGUMENT: You must feed a value for placeholder tensor 'gradients/split_2_grad/concat/split_2/split_dim' with dtype int32\n",
      "\t [[{{node gradients/split_2_grad/concat/split_2/split_dim}}]]\n",
      "2024-05-29 18:11:35.671377: I tensorflow/core/common_runtime/executor.cc:1197] [/device:CPU:0] (DEBUG INFO) Executor start aborting (this does not indicate an error and you can ignore this message): INVALID_ARGUMENT: You must feed a value for placeholder tensor 'gradients/split_grad/concat/split/split_dim' with dtype int32\n",
      "\t [[{{node gradients/split_grad/concat/split/split_dim}}]]\n",
      "2024-05-29 18:11:35.672658: I tensorflow/core/common_runtime/executor.cc:1197] [/device:CPU:0] (DEBUG INFO) Executor start aborting (this does not indicate an error and you can ignore this message): INVALID_ARGUMENT: You must feed a value for placeholder tensor 'gradients/split_1_grad/concat/split_1/split_dim' with dtype int32\n",
      "\t [[{{node gradients/split_1_grad/concat/split_1/split_dim}}]]\n"
     ]
    },
    {
     "name": "stdout",
     "output_type": "stream",
     "text": [
      "1/1 [==============================] - 1s 564ms/step\n"
     ]
    }
   ],
   "source": [
    "lstm_word2vec_sentiments = newsLineToScore(test_headlines,\"LSTM-word2vec\")"
   ]
  },
  {
   "cell_type": "code",
   "execution_count": 7,
   "metadata": {},
   "outputs": [],
   "source": [
    "results = pd.DataFrame({\n",
    "    'News':test_headlines,\n",
    "    'CNN':cnn_sentiments,\n",
    "    'LSTM':lstm_sentiments,\n",
    "    'LSTM-word2vec':lstm_word2vec_sentiments,\n",
    "    \"Real\":[\"Positive\", \"Positive\", \"Positive\", \"Positive\", \"Positive\", \"Negative\", \"Negative\", \"Negative\", \"Negative\", \"Negative\", \"Neutral\", \"Neutral\", \"Neutral\", \"Neutral\", \"Neutral\"]\n",
    "})"
   ]
  },
  {
   "cell_type": "code",
   "execution_count": 8,
   "metadata": {},
   "outputs": [
    {
     "data": {
      "text/html": [
       "<div>\n",
       "<style scoped>\n",
       "    .dataframe tbody tr th:only-of-type {\n",
       "        vertical-align: middle;\n",
       "    }\n",
       "\n",
       "    .dataframe tbody tr th {\n",
       "        vertical-align: top;\n",
       "    }\n",
       "\n",
       "    .dataframe thead th {\n",
       "        text-align: right;\n",
       "    }\n",
       "</style>\n",
       "<table border=\"1\" class=\"dataframe\">\n",
       "  <thead>\n",
       "    <tr style=\"text-align: right;\">\n",
       "      <th></th>\n",
       "      <th>News</th>\n",
       "      <th>CNN</th>\n",
       "      <th>LSTM</th>\n",
       "      <th>LSTM-word2vec</th>\n",
       "      <th>Real</th>\n",
       "    </tr>\n",
       "  </thead>\n",
       "  <tbody>\n",
       "    <tr>\n",
       "      <th>0</th>\n",
       "      <td>Company X reports record-breaking quarterly ea...</td>\n",
       "      <td>0.170880</td>\n",
       "      <td>0.983360</td>\n",
       "      <td>0.989310</td>\n",
       "      <td>Positive</td>\n",
       "    </tr>\n",
       "    <tr>\n",
       "      <th>1</th>\n",
       "      <td>Tech giant Y announces a major partnership wit...</td>\n",
       "      <td>-0.005515</td>\n",
       "      <td>0.000476</td>\n",
       "      <td>0.062287</td>\n",
       "      <td>Positive</td>\n",
       "    </tr>\n",
       "    <tr>\n",
       "      <th>2</th>\n",
       "      <td>Startup A secures $50 million in funding to ex...</td>\n",
       "      <td>0.851487</td>\n",
       "      <td>0.989009</td>\n",
       "      <td>0.845846</td>\n",
       "      <td>Positive</td>\n",
       "    </tr>\n",
       "    <tr>\n",
       "      <th>3</th>\n",
       "      <td>Retailer B sees a surge in sales during the ho...</td>\n",
       "      <td>0.835032</td>\n",
       "      <td>0.989915</td>\n",
       "      <td>0.988074</td>\n",
       "      <td>Positive</td>\n",
       "    </tr>\n",
       "    <tr>\n",
       "      <th>4</th>\n",
       "      <td>Bank C receives regulatory approval for its ne...</td>\n",
       "      <td>0.957475</td>\n",
       "      <td>0.993809</td>\n",
       "      <td>0.955924</td>\n",
       "      <td>Positive</td>\n",
       "    </tr>\n",
       "    <tr>\n",
       "      <th>5</th>\n",
       "      <td>Company D's stock plummets after reporting sig...</td>\n",
       "      <td>-0.979770</td>\n",
       "      <td>-0.994400</td>\n",
       "      <td>-0.971709</td>\n",
       "      <td>Negative</td>\n",
       "    </tr>\n",
       "    <tr>\n",
       "      <th>6</th>\n",
       "      <td>Major layoffs announced at Corporation E as it...</td>\n",
       "      <td>-0.325384</td>\n",
       "      <td>0.011592</td>\n",
       "      <td>-0.978313</td>\n",
       "      <td>Negative</td>\n",
       "    </tr>\n",
       "    <tr>\n",
       "      <th>7</th>\n",
       "      <td>Retailer F faces backlash over supply chain is...</td>\n",
       "      <td>-0.947956</td>\n",
       "      <td>-0.018200</td>\n",
       "      <td>-0.978382</td>\n",
       "      <td>Negative</td>\n",
       "    </tr>\n",
       "    <tr>\n",
       "      <th>8</th>\n",
       "      <td>Energy firm G fined $20 million for environmen...</td>\n",
       "      <td>-0.992311</td>\n",
       "      <td>-0.995301</td>\n",
       "      <td>-0.974245</td>\n",
       "      <td>Negative</td>\n",
       "    </tr>\n",
       "    <tr>\n",
       "      <th>9</th>\n",
       "      <td>Tech startup H files for bankruptcy after fail...</td>\n",
       "      <td>-0.031124</td>\n",
       "      <td>0.000485</td>\n",
       "      <td>-0.977835</td>\n",
       "      <td>Negative</td>\n",
       "    </tr>\n",
       "    <tr>\n",
       "      <th>10</th>\n",
       "      <td>Company X appoints a new member to its board o...</td>\n",
       "      <td>0.000013</td>\n",
       "      <td>0.000414</td>\n",
       "      <td>0.007917</td>\n",
       "      <td>Neutral</td>\n",
       "    </tr>\n",
       "    <tr>\n",
       "      <th>11</th>\n",
       "      <td>Tech giant Y to host its annual developer conf...</td>\n",
       "      <td>0.026837</td>\n",
       "      <td>0.000390</td>\n",
       "      <td>0.007550</td>\n",
       "      <td>Neutral</td>\n",
       "    </tr>\n",
       "    <tr>\n",
       "      <th>12</th>\n",
       "      <td>Startup A releases a minor update to its flags...</td>\n",
       "      <td>0.004061</td>\n",
       "      <td>0.000380</td>\n",
       "      <td>0.859906</td>\n",
       "      <td>Neutral</td>\n",
       "    </tr>\n",
       "    <tr>\n",
       "      <th>13</th>\n",
       "      <td>Retailer B opens a new store in downtown area.</td>\n",
       "      <td>0.034841</td>\n",
       "      <td>0.867920</td>\n",
       "      <td>0.098169</td>\n",
       "      <td>Neutral</td>\n",
       "    </tr>\n",
       "    <tr>\n",
       "      <th>14</th>\n",
       "      <td>Bank C participates in the global financial su...</td>\n",
       "      <td>0.169625</td>\n",
       "      <td>0.235369</td>\n",
       "      <td>0.006744</td>\n",
       "      <td>Neutral</td>\n",
       "    </tr>\n",
       "  </tbody>\n",
       "</table>\n",
       "</div>"
      ],
      "text/plain": [
       "                                                 News       CNN      LSTM  \\\n",
       "0   Company X reports record-breaking quarterly ea...  0.170880  0.983360   \n",
       "1   Tech giant Y announces a major partnership wit... -0.005515  0.000476   \n",
       "2   Startup A secures $50 million in funding to ex...  0.851487  0.989009   \n",
       "3   Retailer B sees a surge in sales during the ho...  0.835032  0.989915   \n",
       "4   Bank C receives regulatory approval for its ne...  0.957475  0.993809   \n",
       "5   Company D's stock plummets after reporting sig... -0.979770 -0.994400   \n",
       "6   Major layoffs announced at Corporation E as it... -0.325384  0.011592   \n",
       "7   Retailer F faces backlash over supply chain is... -0.947956 -0.018200   \n",
       "8   Energy firm G fined $20 million for environmen... -0.992311 -0.995301   \n",
       "9   Tech startup H files for bankruptcy after fail... -0.031124  0.000485   \n",
       "10  Company X appoints a new member to its board o...  0.000013  0.000414   \n",
       "11  Tech giant Y to host its annual developer conf...  0.026837  0.000390   \n",
       "12  Startup A releases a minor update to its flags...  0.004061  0.000380   \n",
       "13     Retailer B opens a new store in downtown area.  0.034841  0.867920   \n",
       "14  Bank C participates in the global financial su...  0.169625  0.235369   \n",
       "\n",
       "    LSTM-word2vec      Real  \n",
       "0        0.989310  Positive  \n",
       "1        0.062287  Positive  \n",
       "2        0.845846  Positive  \n",
       "3        0.988074  Positive  \n",
       "4        0.955924  Positive  \n",
       "5       -0.971709  Negative  \n",
       "6       -0.978313  Negative  \n",
       "7       -0.978382  Negative  \n",
       "8       -0.974245  Negative  \n",
       "9       -0.977835  Negative  \n",
       "10       0.007917   Neutral  \n",
       "11       0.007550   Neutral  \n",
       "12       0.859906   Neutral  \n",
       "13       0.098169   Neutral  \n",
       "14       0.006744   Neutral  "
      ]
     },
     "execution_count": 8,
     "metadata": {},
     "output_type": "execute_result"
    }
   ],
   "source": [
    "results"
   ]
  },
  {
   "cell_type": "code",
   "execution_count": 9,
   "metadata": {},
   "outputs": [],
   "source": [
    "def score_to_sentiment(score):\n",
    "    if score < -0.33:\n",
    "        return \"Negative\"\n",
    "    elif score > 0.33:\n",
    "        return \"Positive\"\n",
    "    else:\n",
    "        return \"Neutral\""
   ]
  },
  {
   "cell_type": "code",
   "execution_count": 12,
   "metadata": {},
   "outputs": [
    {
     "name": "stdout",
     "output_type": "stream",
     "text": [
      "Accuracy for CNN: 0.73\n",
      "Accuracy for LSTM: 0.67\n",
      "Accuracy for LSTM with Word2Vec: 0.87\n",
      "\n",
      "Classification Report for CNN:\n",
      "              precision    recall  f1-score   support\n",
      "\n",
      "    Negative       1.00      0.60      0.75         5\n",
      "     Neutral       0.56      1.00      0.71         5\n",
      "    Positive       1.00      0.60      0.75         5\n",
      "\n",
      "    accuracy                           0.73        15\n",
      "   macro avg       0.85      0.73      0.74        15\n",
      "weighted avg       0.85      0.73      0.74        15\n",
      "\n",
      "\n",
      "Classification Report for LSTM:\n",
      "              precision    recall  f1-score   support\n",
      "\n",
      "    Negative       1.00      0.40      0.57         5\n",
      "     Neutral       0.50      0.80      0.62         5\n",
      "    Positive       0.80      0.80      0.80         5\n",
      "\n",
      "    accuracy                           0.67        15\n",
      "   macro avg       0.77      0.67      0.66        15\n",
      "weighted avg       0.77      0.67      0.66        15\n",
      "\n",
      "\n",
      "Classification Report for LSTM with Word2Vec:\n",
      "              precision    recall  f1-score   support\n",
      "\n",
      "    Negative       1.00      1.00      1.00         5\n",
      "     Neutral       0.80      0.80      0.80         5\n",
      "    Positive       0.80      0.80      0.80         5\n",
      "\n",
      "    accuracy                           0.87        15\n",
      "   macro avg       0.87      0.87      0.87        15\n",
      "weighted avg       0.87      0.87      0.87        15\n",
      "\n"
     ]
    }
   ],
   "source": [
    "results['CNN Sentiment'] = results['CNN'].apply(score_to_sentiment)\n",
    "results['LSTM Sentiment'] = results['LSTM'].apply(score_to_sentiment)\n",
    "results['LSTM-word2vec Sentiment'] = results['LSTM-word2vec'].apply(score_to_sentiment)\n",
    "\n",
    "# Calculate and print the accuracy for each model\n",
    "accuracy_cnn = accuracy_score(results['Real'], results['CNN Sentiment'])\n",
    "accuracy_lstm = accuracy_score(results['Real'], results['LSTM Sentiment'])\n",
    "accuracy_lstm_word2vec = accuracy_score(results['Real'], results['LSTM-word2vec Sentiment'])\n",
    "\n",
    "print(f\"Accuracy for CNN: {accuracy_cnn:.2f}\")\n",
    "print(f\"Accuracy for LSTM: {accuracy_lstm:.2f}\")\n",
    "print(f\"Accuracy for LSTM with Word2Vec: {accuracy_lstm_word2vec:.2f}\")\n",
    "\n",
    "# Print classification reports for each model\n",
    "print(\"\\nClassification Report for CNN:\")\n",
    "print((classification_report(results['Real'], results['CNN Sentiment'])))\n",
    "\n",
    "print(\"\\nClassification Report for LSTM:\")\n",
    "print(classification_report(results['Real'], results['LSTM Sentiment']))\n",
    "\n",
    "print(\"\\nClassification Report for LSTM with Word2Vec:\")\n",
    "print(classification_report(results['Real'], results['LSTM-word2vec Sentiment']))"
   ]
  }
 ],
 "metadata": {
  "kernelspec": {
   "display_name": "Python 3",
   "language": "python",
   "name": "python3"
  },
  "language_info": {
   "codemirror_mode": {
    "name": "ipython",
    "version": 3
   },
   "file_extension": ".py",
   "mimetype": "text/x-python",
   "name": "python",
   "nbconvert_exporter": "python",
   "pygments_lexer": "ipython3",
   "version": "3.10.12"
  }
 },
 "nbformat": 4,
 "nbformat_minor": 2
}
